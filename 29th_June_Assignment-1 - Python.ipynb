{
 "cells": [
  {
   "cell_type": "code",
   "execution_count": null,
   "id": "7ff2ebbf",
   "metadata": {},
   "outputs": [],
   "source": [
    "                                                Assignment 1 - (Python)\n",
    "    \n",
    "Question 1. Write a Python program to check if a given string is an anagram.\n",
    "    \n",
    "Solution:- An anagram of a string is another string that contains same characters, only the order of characters can be different. \n",
    "An Anagram is a word or phrase formed by rearranging the letters of a different word or phrase, typically using all the original letters exactly once.\n",
    "\n",
    "Example 1:\n",
    "\n",
    "Input: s = \"anagram\", t = \"nagaram\"\n",
    "Output: true\n",
    "\n",
    "Example 2:\n",
    "\n",
    "Input: s = \"rat\", t = \"car\"\n",
    "Output: false\n",
    "\n",
    "Code:-\n",
    "    \n",
    "def checkAnagram(str1,str2):\n",
    "    #sorting and checking two strings str1 and str2 and than returning output\n",
    "    return sorted(str1) == sorted(str2)\n",
    "\n",
    "# Get string inputs\n",
    "str1 = input(\"Enter the string 1 : \")\n",
    "str2 = input(\"Enter the string 2 : \")\n",
    "\n",
    "# convert both the strings into lowercase\n",
    "str1 = str1.lower()\n",
    "str2 = str2.lower()\n",
    "\n",
    "#here calling checkAnagram function and checking whether two strings str1 and str2 are anagram or not\n",
    "if checkAnagram(str1,str2):\n",
    "    print(\"Strings are anagram\")\n",
    "#if \"if\" condition fails control go to else block execute the print statement\n",
    "else:\n",
    "    print(\"Strings are not anagram\")\n",
    "    "
   ]
  },
  {
   "cell_type": "code",
   "execution_count": 2,
   "id": "d94b28b1",
   "metadata": {},
   "outputs": [
    {
     "name": "stdout",
     "output_type": "stream",
     "text": [
      "Enter the string 1 : anagram\n",
      "Enter the string 2 : nagaram\n",
      "Strings are anagram\n"
     ]
    }
   ],
   "source": [
    "#checking the code-Question 1\n",
    "def checkAnagram(str1,str2):\n",
    "    return sorted(str1) == sorted(str2)\n",
    "\n",
    "# Get string inputs\n",
    "str1 = input(\"Enter the string 1 : \")\n",
    "str2 = input(\"Enter the string 2 : \")\n",
    "\n",
    "# convert both the strings into lowercase\n",
    "str1 = str1.lower()\n",
    "str2 = str2.lower()\n",
    "\n",
    "\n",
    "if checkAnagram(str1,str2):\n",
    "    print(\"Strings are anagram\")\n",
    "else:\n",
    "    print(\"Strings are not anagram\")"
   ]
  },
  {
   "cell_type": "code",
   "execution_count": 3,
   "id": "c6c463a4",
   "metadata": {},
   "outputs": [
    {
     "name": "stdout",
     "output_type": "stream",
     "text": [
      "Enter the string 1 : rat\n",
      "Enter the string 2 : car\n",
      "Strings are not anagram\n"
     ]
    }
   ],
   "source": [
    "#checking the code-Question 1\n",
    "def checkAnagram(str1,str2):\n",
    "    return sorted(str1) == sorted(str2)\n",
    "\n",
    "# Get string inputs\n",
    "str1 = input(\"Enter the string 1 : \")\n",
    "str2 = input(\"Enter the string 2 : \")\n",
    "\n",
    "# convert both the strings into lowercase\n",
    "str1 = str1.lower()\n",
    "str2 = str2.lower()\n",
    "\n",
    "\n",
    "if checkAnagram(str1,str2):\n",
    "    print(\"Strings are anagram\")\n",
    "else:\n",
    "    print(\"Strings are not anagram\")"
   ]
  },
  {
   "cell_type": "code",
   "execution_count": null,
   "id": "32f29432",
   "metadata": {},
   "outputs": [],
   "source": [
    "Question 2. Write a Python program to find the maximum and minimum values in a\n",
    "dictionary.\n",
    "\n",
    "Solution:- Dictionaries are Python's implementation of a data structure that is more generally known as an associative array. \n",
    "A dictionary consists of a collection of key-value pairs. Each key-value pair maps the key to its associated value.\n",
    "\n",
    "Code:-\n",
    "\n",
    "#given input\n",
    "my_dict = {'x':500, 'y':5874, 'z': 560}\n",
    "\n",
    "#finding max and min values in a dictionary by using lambda function and assign it in a new variable\n",
    "key_max = max(my_dict.keys(), key=(lambda k: my_dict[k]))\n",
    "key_min = min(my_dict.keys(), key=(lambda k: my_dict[k]))\n",
    "\n",
    "#finding min and max values from the given dictionary and printing it\n",
    "print('Maximum Value: ',my_dict[key_max])\n",
    "print('Minimum Value: ',my_dict[key_min])"
   ]
  },
  {
   "cell_type": "code",
   "execution_count": 4,
   "id": "e27407a5",
   "metadata": {},
   "outputs": [
    {
     "name": "stdout",
     "output_type": "stream",
     "text": [
      "Maximum Value:  5874\n",
      "Minimum Value:  500\n"
     ]
    }
   ],
   "source": [
    "#checking the code-Question 2\n",
    "my_dict = {'x':500, 'y':5874, 'z': 560}\n",
    "\n",
    "key_max = max(my_dict.keys(), key=(lambda k: my_dict[k]))\n",
    "key_min = min(my_dict.keys(), key=(lambda k: my_dict[k]))\n",
    "\n",
    "print('Maximum Value: ',my_dict[key_max])\n",
    "print('Minimum Value: ',my_dict[key_min])"
   ]
  },
  {
   "cell_type": "code",
   "execution_count": null,
   "id": "2ddb7529",
   "metadata": {},
   "outputs": [],
   "source": [
    "Question 3. Write a Python program to find the average of a list of numbers.\n",
    "\n",
    "Solution:- \n",
    "    \n",
    "Example-1    \n",
    "\n",
    "Input : [4, 5, 1, 2]\n",
    "Output : 3\n",
    "Explanation:\n",
    "Sum of the elements is 4+5+1+2 = 12 and total number of elements is 4.\n",
    "So average is 12/4 = 3\n",
    "\n",
    "Example-2\n",
    "\n",
    "Input : [15, 9, 55]\n",
    "Output : 26.33\n",
    "Explanation:\n",
    "Sum of the elements is 15+9+53 = 77 and total number of elements is 3.\n",
    "So average is 77/3 = 26.33\n",
    "\n",
    "Code:-\n",
    "    \n",
    "#find the average of a list of numbers.\n",
    "\n",
    "def Average(lst):\n",
    "  return sum(lst) / len(lst)\n",
    "\n",
    "#given input\n",
    "lst = [15, 9, 55, 41, 35, 20, 62, 49]\n",
    "average = Average(lst)\n",
    "\n",
    "# Printing average of the list\n",
    "#The round() function returns a floating point number that is a rounded version of the specified number, \n",
    "# with the specified number of decimals.\n",
    "#The default number of decimals is 0, meaning that the function will return the nearest integer.\n",
    "#round(number, digits)\n",
    "#Parameter Values\n",
    "#Parameter Description\n",
    "#number-> Required. The number to be rounded\n",
    "#digits-> Optional. The number of decimals to use when rounding the number. Default is 0\n",
    "#here number=average and digits =2\n",
    "print(\"Average of the list =\", round(average, 2))\n"
   ]
  },
  {
   "cell_type": "code",
   "execution_count": 5,
   "id": "62d41311",
   "metadata": {},
   "outputs": [
    {
     "name": "stdout",
     "output_type": "stream",
     "text": [
      "Average of the list = 35.75\n"
     ]
    }
   ],
   "source": [
    "#checking code of Question 3\n",
    "def Average(lst):\n",
    "  return sum(lst) / len(lst)\n",
    "\n",
    "lst = [15, 9, 55, 41, 35, 20, 62, 49]\n",
    "average = Average(lst)\n",
    "\n",
    "# Printing average of the list\n",
    "print(\"Average of the list =\", round(average, 2))"
   ]
  },
  {
   "cell_type": "code",
   "execution_count": null,
   "id": "1116e1c3",
   "metadata": {},
   "outputs": [],
   "source": [
    "Question 4. Write a Python program to remove all vowels from a string.\n",
    "\n",
    "Solution:- \n",
    "    \n",
    "Example-1 \n",
    "\n",
    "Input:- Aaditi\n",
    "Output:- dt\n",
    "    \n",
    "Code:-\n",
    "    \n",
    "#taking the input string from the user\n",
    "string = input(\"Enter a String : \") \n",
    "result=''\n",
    "for i in string:  \n",
    "#iterating through each character of the string\n",
    "    if i in ('a', 'e', 'i', 'o', 'u', 'A', 'E', 'I', 'O', 'U'):  \n",
    "     #seaching for vowels\n",
    "        i = ''  \n",
    "#if vowel found replace it with empty string\n",
    "    result += i \n",
    "    #concatenate rest of the string\n",
    "print(\"String after removing the vowels :\",result)"
   ]
  },
  {
   "cell_type": "code",
   "execution_count": 6,
   "id": "d7b65d7e",
   "metadata": {},
   "outputs": [
    {
     "name": "stdout",
     "output_type": "stream",
     "text": [
      "Enter a String : Aaditi\n",
      "String after removing the vowels : dt\n"
     ]
    }
   ],
   "source": [
    "#checking the code of Question 4\n",
    "#taking the input string from the user\n",
    "string = input(\"Enter a String : \") \n",
    "result=''\n",
    "for i in string:  \n",
    "#iterating through each character of the string\n",
    "    if i in ('a', 'e', 'i', 'o', 'u', 'A', 'E', 'I', 'O', 'U'):  \n",
    "     #seaching for vowels\n",
    "        i = ''  \n",
    "#if vowel found replace it with empty string\n",
    "    result += i \n",
    "    #concatenate rest of the string\n",
    "print(\"String after removing the vowels :\",result)"
   ]
  },
  {
   "cell_type": "code",
   "execution_count": null,
   "id": "397af7ef",
   "metadata": {},
   "outputs": [],
   "source": [
    "Question 5. Write a Python function to calculate the factorial of a number using recursion.\n",
    "\n",
    "Solution:- \n",
    "    \n",
    "Explanation of the below code:-\n",
    "num=7\n",
    "recur_factorial(7) # n=num=7 # calling recur_factorial function\n",
    "under recur_factorial function, control  go to the else block because 7==1->false\n",
    "It executes else block here\n",
    "return n*recur_factorial(n-1)\n",
    "7*recur_factorial(7-1)=7*recur_factorial(6)=7*720=5040\n",
    "6*recur_factorial(6-1)=6*recur_factoraial(5)=6*120=720\n",
    "5*recur_factorial(5-1)=5*recur_factorial(4)=5*24=120\n",
    "4*recur_factorial(4-1)=4*recur_factorial(3)=4*6=24\n",
    "3*recur_factorial(3-1)=3*recur_factorial(2)=3*2=6\n",
    "2*recur_factorial(2-1)=2*recur_factorial(1)=2*1=2\n",
    "\n",
    "\n",
    "    \n",
    "Code:-\n",
    "    \n",
    "# Factorial of a number using recursion\n",
    "\n",
    "def recur_factorial(n):\n",
    "   if n == 1:\n",
    "       return n\n",
    "   else:\n",
    "       return n*recur_factorial(n-1)\n",
    "\n",
    "num = 7\n",
    "\n",
    "# check if the number is negative\n",
    "if num < 0:\n",
    "   print(\"Sorry, factorial does not exist for negative numbers\")\n",
    "elif num == 0:\n",
    "   print(\"The factorial of 0 is 1\")\n",
    "else:\n",
    "   print(\"The factorial of\", num, \"is\", recur_factorial(num))\n",
    "\n",
    "    "
   ]
  },
  {
   "cell_type": "code",
   "execution_count": 7,
   "id": "c2015c0a",
   "metadata": {},
   "outputs": [
    {
     "name": "stdout",
     "output_type": "stream",
     "text": [
      "The factorial of 7 is 5040\n"
     ]
    }
   ],
   "source": [
    "#checking the code of Question 5\n",
    "# Factorial of a number using recursion\n",
    "\n",
    "def recur_factorial(n):\n",
    "   if n == 1:\n",
    "       return n\n",
    "   else:\n",
    "       return n*recur_factorial(n-1)\n",
    "\n",
    "num = 7\n",
    "\n",
    "# check if the number is negative\n",
    "if num < 0:\n",
    "   print(\"Sorry, factorial does not exist for negative numbers\")\n",
    "elif num == 0:\n",
    "   print(\"The factorial of 0 is 1\")\n",
    "else:\n",
    "   print(\"The factorial of\", num, \"is\", recur_factorial(num))\n"
   ]
  },
  {
   "cell_type": "code",
   "execution_count": null,
   "id": "e2b0091e",
   "metadata": {},
   "outputs": [],
   "source": [
    "Question 6. Write a Python program to merge two unsorted lists into a single sorted list\n",
    "using the merge sort algorithm.\n",
    "\n",
    "Solution:-  \n",
    "The merge sort working rule involves the following steps:\n",
    "\n",
    "Divide the unsorted array into subarray, each containing a single element.\n",
    "Take adjacent pairs of two single-element array and merge them to form an array of 2 elements.\n",
    "Repeat the process till a single sorted array is obtained.\n",
    "An array of Size ‘N’ is divided into two parts ‘N/2’ size of each. \n",
    "then those arrays are further divided till we reach a single element. \n",
    "The base case here is reaching one single element. \n",
    "When the base case is hit, we start merging the left part and the right part and we get a sorted array at the end. \n",
    "Merge sort repeatedly breaks down an array into several subarrays until each subarray consists of a single element \n",
    "and merging those subarrays in a manner that results in a sorted array.\n",
    "\n",
    "\n",
    "Code:-\n",
    "    \n",
    "# Python program to merge and sort two list\n",
    "def Merge(list1, list2):\n",
    "  final_list = list1 + list2\n",
    "  # sorting two list-list1 and list2\n",
    "  final_list.sort()\n",
    "  #returning the final list\n",
    "  return(final_list)\n",
    "\n",
    "list1 = [25, 18, 9, 41, 26, 31]\n",
    "list2 = [25, 45, 3, 32, 15, 20]\n",
    "#calling Merge function with passing parameters and printing it\n",
    "print(Merge(list1, list2))\n"
   ]
  },
  {
   "cell_type": "code",
   "execution_count": 10,
   "id": "4763d702",
   "metadata": {},
   "outputs": [
    {
     "name": "stdout",
     "output_type": "stream",
     "text": [
      "[3, 9, 15, 18, 20, 25, 25, 26, 31, 32, 41, 45]\n"
     ]
    }
   ],
   "source": [
    "#checking the code of question 6\n",
    "def Merge(list1, list2):\n",
    "  final_list = list1 + list2\n",
    "  # sorting two list-list1 and list2\n",
    "  final_list.sort()\n",
    "  #returning the final list\n",
    "  return(final_list)\n",
    "\n",
    "list1 = [25, 18, 9, 41, 26, 31]\n",
    "list2 = [25, 45, 3, 32, 15, 20]\n",
    "#calling Merge function with passing parameters and printing it\n",
    "print(Merge(list1, list2))"
   ]
  },
  {
   "cell_type": "code",
   "execution_count": null,
   "id": "ba5e22cc",
   "metadata": {},
   "outputs": [],
   "source": [
    "Question 7. Write a Python program to find the GCD (Greatest Common Divisor) of two\n",
    "numbers.\n",
    "\n",
    "Solution:-  In python, a gcd() is an inbuilt function offered by the math module to find \n",
    "    the greatest common divisor of two numbers.\n",
    "\n",
    "Syntax\n",
    "\n",
    "gcd(a, b)  \n",
    "Where a and b are the two integer number passes as an argument to the function gcd().\n",
    "\n",
    "\n",
    "Code:-\n",
    "\n",
    "#In this code, the lambda function gcd takes two arguments a and b. \n",
    "#It uses the same recursive algorithm as the previous code example to calculate the gcd. \n",
    "#The function returns a if b is equal to 0, otherwise it calls itself with b and a % b. \n",
    "#Finally, the gcd is printed using the lambda function.\n",
    "gcd = lambda a, b: a if b == 0 else gcd(b, a % b)\n",
    "\n",
    "a = 60\n",
    "b = 48\n",
    "\n",
    "# Prints 12\n",
    "print(\"The gcd of 60 and 48 is:\", gcd(a, b))\n",
    "\n"
   ]
  },
  {
   "cell_type": "code",
   "execution_count": 11,
   "id": "92bf66b1",
   "metadata": {},
   "outputs": [
    {
     "name": "stdout",
     "output_type": "stream",
     "text": [
      "The gcd of 60 and 48 is: 12\n"
     ]
    }
   ],
   "source": [
    "#checking the code of Question 7\n",
    "gcd = lambda a, b: a if b == 0 else gcd(b, a % b)\n",
    "\n",
    "a = 60\n",
    "b = 48\n",
    "\n",
    "# Prints 12\n",
    "print(\"The gcd of 60 and 48 is:\", gcd(a, b))\n",
    "\n"
   ]
  },
  {
   "cell_type": "code",
   "execution_count": null,
   "id": "fddb8c66",
   "metadata": {},
   "outputs": [],
   "source": [
    "Question 8. Write a Python program to find the second-largest element in a list.\n",
    "\n",
    "Solution:-  Method-> By removing the max element from the list \n",
    "\n",
    "Code:-\n",
    "    \n",
    "# Python program to find second largest number\n",
    "# in a list\n",
    " \n",
    "# List of numbers\n",
    "list1 = [10, 20, 4, 45, 99]\n",
    " \n",
    "# new_list is a set of list1\n",
    "new_list = set(list1)\n",
    " \n",
    "# Removing the largest element from temp list\n",
    "new_list.remove(max(new_list))\n",
    " \n",
    "# Elements in original list are not changed\n",
    "# print(list1)\n",
    "print(max(new_list))\n",
    "\n",
    "Time Complexity: O(n)\n",
    "Auxiliary Space: O(1)"
   ]
  },
  {
   "cell_type": "code",
   "execution_count": 1,
   "id": "beb12e3e",
   "metadata": {},
   "outputs": [
    {
     "name": "stdout",
     "output_type": "stream",
     "text": [
      "45\n"
     ]
    }
   ],
   "source": [
    "#checking the code of Question 8\n",
    "# List of numbers\n",
    "list1 = [10, 20, 4, 45, 99]\n",
    " \n",
    "# new_list is a set of list1\n",
    "new_list = set(list1)\n",
    " \n",
    "# Removing the largest element from temp list\n",
    "new_list.remove(max(new_list))\n",
    " \n",
    "# Elements in original list are not changed\n",
    "# print(list1)\n",
    "print(max(new_list))\n"
   ]
  },
  {
   "cell_type": "code",
   "execution_count": null,
   "id": "873c20d9",
   "metadata": {},
   "outputs": [],
   "source": [
    "Question 9. Write a Python program to find the longest common subsequence between two\n",
    "strings using dynamic programming.\n",
    "\n",
    "Solution:- \n",
    "    \n",
    "Code:-\n",
    "    \n",
    "def lcs(u, v):\n",
    "    \"\"\"Return c where c[i][j] contains length of LCS of u[i:] and v[j:].\"\"\"\n",
    "    c = [[-1]*(len(v) + 1) for _ in range(len(u) + 1)]\n",
    " \n",
    "    for i in range(len(u) + 1):\n",
    "        c[i][len(v)] = 0\n",
    "    for j in range(len(v)):\n",
    "        c[len(u)][j] = 0\n",
    " \n",
    "    for i in range(len(u) - 1, -1, -1):\n",
    "        for j in range(len(v) - 1, -1, -1):\n",
    "            if u[i] == v[j]:\n",
    "                c[i][j] = 1 + c[i + 1][j + 1]\n",
    "            else:\n",
    "                c[i][j] = max(c[i + 1][j], c[i][j + 1])\n",
    " \n",
    "    return c\n",
    " \n",
    " \n",
    "def print_lcs(u, v, c):\n",
    "    \"\"\"Print one LCS of u and v using table c.\"\"\"\n",
    "    i = j = 0\n",
    "    while not (i == len(u) or j == len(v)):\n",
    "        if u[i] == v[j]:\n",
    "            print(u[i], end='')\n",
    "            i += 1\n",
    "            j += 1\n",
    "        elif c[i][j + 1] > c[i + 1][j]:\n",
    "            j += 1\n",
    "        else:\n",
    "            i += 1\n",
    " \n",
    " \n",
    "u = input('Enter first string: ')\n",
    "v = input('Enter second string: ')\n",
    "c = lcs(u, v)\n",
    "print('Longest Common Subsequence: ', end='')\n",
    "print_lcs(u, v, c)"
   ]
  },
  {
   "cell_type": "code",
   "execution_count": 2,
   "id": "5f4cb289",
   "metadata": {},
   "outputs": [
    {
     "name": "stdout",
     "output_type": "stream",
     "text": [
      "Enter first string: abcbdab\n",
      "Enter second string:  bdcaba\n",
      "Longest Common Subsequence: bdab"
     ]
    }
   ],
   "source": [
    "#checking the code of Question 9\n",
    "def lcs(u, v):\n",
    "    \"\"\"Return c where c[i][j] contains length of LCS of u[i:] and v[j:].\"\"\"\n",
    "    c = [[-1]*(len(v) + 1) for _ in range(len(u) + 1)]\n",
    " \n",
    "    for i in range(len(u) + 1):\n",
    "        c[i][len(v)] = 0\n",
    "    for j in range(len(v)):\n",
    "        c[len(u)][j] = 0\n",
    " \n",
    "    for i in range(len(u) - 1, -1, -1):\n",
    "        for j in range(len(v) - 1, -1, -1):\n",
    "            if u[i] == v[j]:\n",
    "                c[i][j] = 1 + c[i + 1][j + 1]\n",
    "            else:\n",
    "                c[i][j] = max(c[i + 1][j], c[i][j + 1])\n",
    " \n",
    "    return c\n",
    " \n",
    " \n",
    "def print_lcs(u, v, c):\n",
    "    \"\"\"Print one LCS of u and v using table c.\"\"\"\n",
    "    i = j = 0\n",
    "    while not (i == len(u) or j == len(v)):\n",
    "        if u[i] == v[j]:\n",
    "            print(u[i], end='')\n",
    "            i += 1\n",
    "            j += 1\n",
    "        elif c[i][j + 1] > c[i + 1][j]:\n",
    "            j += 1\n",
    "        else:\n",
    "            i += 1\n",
    " \n",
    " \n",
    "u = input('Enter first string: ')\n",
    "v = input('Enter second string: ')\n",
    "c = lcs(u, v)\n",
    "print('Longest Common Subsequence: ', end='')\n",
    "print_lcs(u, v, c)"
   ]
  },
  {
   "cell_type": "code",
   "execution_count": null,
   "id": "55b7ef0f",
   "metadata": {},
   "outputs": [],
   "source": []
  }
 ],
 "metadata": {
  "kernelspec": {
   "display_name": "Python 3 (ipykernel)",
   "language": "python",
   "name": "python3"
  },
  "language_info": {
   "codemirror_mode": {
    "name": "ipython",
    "version": 3
   },
   "file_extension": ".py",
   "mimetype": "text/x-python",
   "name": "python",
   "nbconvert_exporter": "python",
   "pygments_lexer": "ipython3",
   "version": "3.10.9"
  }
 },
 "nbformat": 4,
 "nbformat_minor": 5
}
